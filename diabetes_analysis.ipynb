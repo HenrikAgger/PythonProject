{
 "cells": [
  {
   "cell_type": "code",
   "execution_count": 1,
   "metadata": {},
   "outputs": [
    {
     "output_type": "stream",
     "name": "stdout",
     "text": "preg  plas  pres  skin  insu  mass   pedi  age            class\n0     6   148    72    35     0  33.6  0.627   50  tested_positive\n1     1    85    66    29     0  26.6  0.351   31  tested_negative\n2     8   183    64     0     0  23.3  0.672   32  tested_positive\n3     1    89    66    23    94  28.1  0.167   21  tested_negative\n4     0   137    40    35   168  43.1  2.288   33  tested_positive\n   preg  plas  pres  skin  insu  mass   pedi  age  class\n0     6   148    72    35     0  33.6  0.627   50      1\n1     1    85    66    29     0  26.6  0.351   31      0\n2     8   183    64     0     0  23.3  0.672   32      1\n3     1    89    66    23    94  28.1  0.167   21      0\n4     0   137    40    35   168  43.1  2.288   33      1\n"
    }
   ],
   "source": [
    "import pandas as pd\n",
    "import numpy as np\n",
    "import diabetes as db\n",
    "import diabetes_train as tt\n",
    "from sklearn import metrics\n",
    "\n",
    "# Here the file is loaded, and data is being rinsed\n",
    "diabetes_data = db.read_csv('diabetes.csv') # csv file here is loaded\n",
    "print(diabetes_data.head())\n",
    "\n",
    "# Here we use feature selections/must be researched more\n",
    "diabetes_data = db.negative_positive(diabetes_data) # Data from diabetes.csv is analysed by machinelearning\n",
    "print(diabetes_data.head()) \n",
    "\n",
    "db.plot_corr(diabetes_data) # we used Panda to get dataExploration"
   ]
  },
  {
   "cell_type": "code",
   "execution_count": 2,
   "metadata": {},
   "outputs": [
    {
     "output_type": "stream",
     "name": "stdout",
     "text": "69.92% in training set\n30.08% in test set\n"
    }
   ],
   "source": [
    "X_train, X_test, y_train,y_test = tt.train_data(diabetes_data)\n",
    "print(\"{0:0.2f}% in training set\".format((len(X_train)/len(diabetes_data.index)) * 100))\n",
    "print(\"{0:0.2f}% in test set\".format((len(X_test)/len(diabetes_data.index)) * 100))"
   ]
  },
  {
   "cell_type": "code",
   "execution_count": 3,
   "metadata": {},
   "outputs": [
    {
     "output_type": "stream",
     "name": "stdout",
     "text": "(array([[  1.        ,  95.        ,  60.        , ...,  23.9       ,\n          0.26      ,  22.        ],\n       [  5.        , 105.        ,  72.        , ...,  36.9       ,\n          0.159     ,  28.        ],\n       [  4.34056399, 135.        ,  68.        , ...,  42.3       ,\n          0.365     ,  24.        ],\n       ...,\n       [ 10.        , 101.        ,  86.        , ...,  45.6       ,\n          1.136     ,  38.        ],\n       [  4.34056399, 141.        ,  72.24131274, ...,  42.4       ,\n          0.205     ,  29.        ],\n       [  4.34056399, 125.        ,  96.        , ...,  22.5       ,\n          0.262     ,  21.        ]]), array([[6.00000000e+00, 9.80000000e+01, 5.80000000e+01, ...,\n        3.40000000e+01, 4.30000000e-01, 4.30000000e+01],\n       [2.00000000e+00, 1.12000000e+02, 7.50000000e+01, ...,\n        3.57000000e+01, 1.48000000e-01, 2.10000000e+01],\n       [2.00000000e+00, 1.08000000e+02, 6.40000000e+01, ...,\n        3.08000000e+01, 1.58000000e-01, 2.10000000e+01],\n       ...,\n       [4.85714286e+00, 1.27000000e+02, 8.00000000e+01, ...,\n        3.63000000e+01, 8.04000000e-01, 2.30000000e+01],\n       [6.00000000e+00, 1.05000000e+02, 7.00000000e+01, ...,\n        3.08000000e+01, 1.22000000e-01, 3.70000000e+01],\n       [5.00000000e+00, 7.70000000e+01, 8.20000000e+01, ...,\n        3.58000000e+01, 1.56000000e-01, 3.50000000e+01]]))\n"
    }
   ],
   "source": [
    "diabetes_data = tt.impute_with_mean(X_train, X_test)\n",
    "print(diabetes_data)"
   ]
  },
  {
   "cell_type": "code",
   "execution_count": 3,
   "metadata": {},
   "outputs": [
    {
     "output_type": "stream",
     "name": "stdout",
     "text": "GaussianNB(priors=None, var_smoothing=1e-09)\n"
    }
   ],
   "source": [
    "nb_model = tt.naive_bayes(X_train, y_train)\n",
    "print(nb_model)"
   ]
  },
  {
   "cell_type": "code",
   "execution_count": 4,
   "metadata": {},
   "outputs": [
    {
     "output_type": "stream",
     "name": "stdout",
     "text": "Accuracy: 0.7672\n"
    }
   ],
   "source": [
    "\n",
    "nb_predict_train_model = tt.models_acuracy(X_train, nb_model)\n",
    "\n",
    "print(\"Accuracy: {0:.4f}\".format(metrics.accuracy_score(y_train,nb_predict_train_model)))\n"
   ]
  },
  {
   "cell_type": "code",
   "execution_count": 5,
   "metadata": {},
   "outputs": [
    {
     "output_type": "stream",
     "name": "stdout",
     "text": "Accuracy:0.6537\n"
    }
   ],
   "source": [
    "nb_predict_train_X_test = tt.models_acuracy_X_Test(y_test, nb_model)\n",
    "print(\"Accuracy:{0:.4f}\".format(metrics.accuracy_score(y_test,nb_predict_train_X_test)))"
   ]
  }
 ],
 "metadata": {
  "language_info": {
   "codemirror_mode": {
    "name": "ipython",
    "version": 3
   },
   "file_extension": ".py",
   "mimetype": "text/x-python",
   "name": "python",
   "nbconvert_exporter": "python",
   "pygments_lexer": "ipython3",
   "version": "3.7.4-final"
  },
  "orig_nbformat": 2,
  "kernelspec": {
   "name": "python37464bitdhonovirtualenvf548a833c2c34472b66fb39b2115cbad",
   "display_name": "Python 3.7.4 64-bit ('Dhono': virtualenv)"
  }
 },
 "nbformat": 4,
 "nbformat_minor": 2
}